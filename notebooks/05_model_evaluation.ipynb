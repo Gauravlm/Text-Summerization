{
 "cells": [
  {
   "cell_type": "code",
   "execution_count": 1,
   "metadata": {},
   "outputs": [],
   "source": [
    "import os"
   ]
  },
  {
   "cell_type": "code",
   "execution_count": 2,
   "metadata": {},
   "outputs": [
    {
     "data": {
      "text/plain": [
       "'/home/gaurav/ds study/Study/Text-Summerization'"
      ]
     },
     "execution_count": 2,
     "metadata": {},
     "output_type": "execute_result"
    }
   ],
   "source": [
    "os.chdir('../')\n",
    "%pwd"
   ]
  },
  {
   "cell_type": "code",
   "execution_count": 4,
   "metadata": {},
   "outputs": [],
   "source": [
    "from dataclasses import dataclass\n",
    "from pathlib import Path\n",
    "\n",
    "@dataclass(frozen=True)\n",
    "class ModelEvaluationConfig:\n",
    "    root_dir: Path\n",
    "    data_path: Path\n",
    "    model_path: Path\n",
    "    tokenizer_path: Path\n",
    "    metric_file_name: Path"
   ]
  },
  {
   "cell_type": "code",
   "execution_count": 5,
   "metadata": {},
   "outputs": [],
   "source": [
    "from textSummarizer.constants import *\n",
    "from textSummarizer.utils.common import read_yaml,create_directories"
   ]
  },
  {
   "cell_type": "code",
   "execution_count": 6,
   "metadata": {},
   "outputs": [],
   "source": [
    "# configurationManager\n",
    "class ConfigurationManager:\n",
    "    def __init__(self, config_file_path= CONFIG_FILE_PATH, param_file_path= PARAMS_FILE_PATH):\n",
    "        \n",
    "        self.config= read_yaml(config_file_path)\n",
    "        self.param= read_yaml(param_file_path)\n",
    "\n",
    "        if not os.path.exists(self.config.artifacts_root):\n",
    "            create_directories(self.config.artifacts_root)\n",
    "\n",
    "    def get_model_evaluation_config(self)->ModelEvaluationConfig:\n",
    "        config = self.config.model_evaluation\n",
    "        if not os.path.exists(config.root_dir):\n",
    "            create_directories([config.root_dir])\n",
    "\n",
    "        model_evaluation_config= ModelEvaluationConfig(\n",
    "            root_dir= config.root_dir,\n",
    "            data_path= config.data_path,\n",
    "            model_path=config.model_path,\n",
    "            tokenizer_path=config.tokenizer_path,\n",
    "            metric_file_name= config.metric_file_name\n",
    "        )\n",
    "        return model_evaluation_config"
   ]
  },
  {
   "cell_type": "code",
   "execution_count": 8,
   "metadata": {},
   "outputs": [],
   "source": [
    "from transformers import AutoModelForSeq2SeqLM,AutoTokenizer\n",
    "from datasets import load_from_disk,load_dataset,load_metric\n",
    "import torch\n",
    "import pandas as pd\n",
    "from tqdm import tqdm"
   ]
  },
  {
   "cell_type": "code",
   "execution_count": 10,
   "metadata": {},
   "outputs": [],
   "source": [
    "class ModelEvaluation:\n",
    "    def __init__(self,config:ModelEvaluationConfig):\n",
    "        self.config = config\n",
    "\n",
    "    def get_batch_size_chunks(self,list_of_elements,batch_size):\n",
    "        '''\n",
    "        split the dataset into smaller batches that we can process simultaneously\n",
    "        Yield successive batch-sized chunks from list_of_elements.\n",
    "        '''\n",
    "        for i in range(0, len(list_of_elements),batch_size):\n",
    "            yield list_of_elements[i:i+batch_size]\n",
    "\n",
    "    def calculate_matric_on_test_ds(self,\n",
    "                                    dataset,\n",
    "                                    metric,\n",
    "                                    model,\n",
    "                                    tokenizer,\n",
    "                                    batch_size=6,\n",
    "                                    device='cuda' if torch.cuda.is_available() else 'cpu',\n",
    "                                    column_text= 'article',\n",
    "                                    column_summary='highlights'):\n",
    "        article_batches= list(self.get_batch_size_chunks(dataset[column_text],batch_size))\n",
    "        target_batches = list(self.get_batch_size_chunks(dataset[column_summary],batch_size))\n",
    "        for article_batch, target_batch in tqdm(zip(article_batches,target_batches),\n",
    "                                                total=len(article_batches)):\n",
    "            inputs= tokenizer(article_batch,max_length=1024,truncation=True, padding='max_length',\n",
    "                              return_tensor='pt')\n",
    "            summaries = model.generate(input_ids=inputs['input_ids'].to(device),\n",
    "                                       attention_mask=input['attention_mask'].to(device),\n",
    "                                       length_penalty=0.8,\n",
    "                                       num_beams=0.8,\n",
    "                                       max_length=128)\n",
    "            ''' parameter for length penalty ensures that the model does not generate sequences that are too long. '''\n",
    "            decoded_summeries= [tokenizer.decode(s, skip_special_tokens=True, clean_up_tokenization_spaces=True)\n",
    "                                    for s in summaries]\n",
    "            decoded_summeries= [d.replace(\"\",\" \") for d in decoded_summeries]\n",
    "\n",
    "            metric.add_batch(prediction= decoded_summeries, reference=target_batch)\n",
    "        score = metric.compute()\n",
    "        return score\n",
    "    \n",
    "    def evaluate(self):\n",
    "        device='cuda' if torch.cuda.is_available() else 'cpu'\n",
    "        tokenizer = AutoTokenizer.from_pretrained(self.config.tokenizer_path)\n",
    "        model_pegasus = AutoModelForSeq2SeqLM.from_pretrained(self.config.model_path).to(device)\n",
    "        #loading data \n",
    "        dataset_samsum_pt = load_from_disk(self.config.data_path)\n",
    "        rouge_names = [\"rouge1\", \"rouge2\", \"rougeL\", \"rougeLsum\"]\n",
    "        rouge_metric = load_metric('rouge')\n",
    "        score = self.calculate_metric_on_test_ds(\n",
    "            dataset_samsum_pt['test'][0:10], \n",
    "            rouge_metric, model_pegasus, \n",
    "            tokenizer, \n",
    "            batch_size = 2, \n",
    "            column_text = 'dialogue', \n",
    "            column_summary= 'summary'\n",
    "            )\n",
    "        rouge_dict= dict((rn,score[rn].mid.fmeasure) for rn in rouge_names)\n",
    "        df = pd.DataFrame(rouge_dict, index = ['pegasus'] )\n",
    "        df.to_csv(self.config.metric_file_name, index=False)\n",
    "\n",
    "\n",
    "\n"
   ]
  },
  {
   "cell_type": "code",
   "execution_count": null,
   "metadata": {},
   "outputs": [],
   "source": [
    "try:\n",
    "    config = ConfigurationManager()\n",
    "    model_evaluation_config = config.get_model_evaluation_config()\n",
    "    model_evaluation_config = ModelEvaluation(config=model_evaluation_config)\n",
    "    model_evaluation_config.evaluate()\n",
    "except Exception as e:\n",
    "    raise e"
   ]
  }
 ],
 "metadata": {
  "kernelspec": {
   "display_name": "texts",
   "language": "python",
   "name": "python3"
  },
  "language_info": {
   "codemirror_mode": {
    "name": "ipython",
    "version": 3
   },
   "file_extension": ".py",
   "mimetype": "text/x-python",
   "name": "python",
   "nbconvert_exporter": "python",
   "pygments_lexer": "ipython3",
   "version": "3.8.18"
  }
 },
 "nbformat": 4,
 "nbformat_minor": 2
}
